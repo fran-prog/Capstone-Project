{
 "cells": [
  {
   "cell_type": "code",
   "execution_count": 1,
   "metadata": {},
   "outputs": [],
   "source": [
    "import pandas as pd\n",
    "from statsmodels.tsa.statespace.sarimax import SARIMAX\n",
    "%matplotlib inline"
   ]
  },
  {
   "cell_type": "code",
   "execution_count": 18,
   "metadata": {},
   "outputs": [],
   "source": [
    "oil = pd.read_csv('C:/Users/Admin/Desktop/oilprice.csv', sep=';')"
   ]
  },
  {
   "cell_type": "code",
   "execution_count": 19,
   "metadata": {},
   "outputs": [
    {
     "data": {
      "text/html": [
       "<div>\n",
       "<style scoped>\n",
       "    .dataframe tbody tr th:only-of-type {\n",
       "        vertical-align: middle;\n",
       "    }\n",
       "\n",
       "    .dataframe tbody tr th {\n",
       "        vertical-align: top;\n",
       "    }\n",
       "\n",
       "    .dataframe thead th {\n",
       "        text-align: right;\n",
       "    }\n",
       "</style>\n",
       "<table border=\"1\" class=\"dataframe\">\n",
       "  <thead>\n",
       "    <tr style=\"text-align: right;\">\n",
       "      <th></th>\n",
       "      <th>Month</th>\n",
       "      <th>Price</th>\n",
       "      <th>Sales</th>\n",
       "    </tr>\n",
       "  </thead>\n",
       "  <tbody>\n",
       "    <tr>\n",
       "      <th>0</th>\n",
       "      <td>Jan-00</td>\n",
       "      <td>27.26</td>\n",
       "      <td>12819.1</td>\n",
       "    </tr>\n",
       "    <tr>\n",
       "      <th>1</th>\n",
       "      <td>Feb-00</td>\n",
       "      <td>29.37</td>\n",
       "      <td>11972.6</td>\n",
       "    </tr>\n",
       "    <tr>\n",
       "      <th>2</th>\n",
       "      <td>Mar-00</td>\n",
       "      <td>29.84</td>\n",
       "      <td>11137.8</td>\n",
       "    </tr>\n",
       "    <tr>\n",
       "      <th>3</th>\n",
       "      <td>Apr-00</td>\n",
       "      <td>25.72</td>\n",
       "      <td>11291.3</td>\n",
       "    </tr>\n",
       "    <tr>\n",
       "      <th>4</th>\n",
       "      <td>May-00</td>\n",
       "      <td>28.79</td>\n",
       "      <td>12429.0</td>\n",
       "    </tr>\n",
       "  </tbody>\n",
       "</table>\n",
       "</div>"
      ],
      "text/plain": [
       "    Month  Price    Sales\n",
       "0  Jan-00  27.26  12819.1\n",
       "1  Feb-00  29.37  11972.6\n",
       "2  Mar-00  29.84  11137.8\n",
       "3  Apr-00  25.72  11291.3\n",
       "4  May-00  28.79  12429.0"
      ]
     },
     "execution_count": 19,
     "metadata": {},
     "output_type": "execute_result"
    }
   ],
   "source": [
    "oil.head()"
   ]
  },
  {
   "cell_type": "code",
   "execution_count": 20,
   "metadata": {},
   "outputs": [],
   "source": [
    "oil.index = oil.Month"
   ]
  },
  {
   "cell_type": "code",
   "execution_count": 21,
   "metadata": {},
   "outputs": [
    {
     "data": {
      "text/html": [
       "<div>\n",
       "<style scoped>\n",
       "    .dataframe tbody tr th:only-of-type {\n",
       "        vertical-align: middle;\n",
       "    }\n",
       "\n",
       "    .dataframe tbody tr th {\n",
       "        vertical-align: top;\n",
       "    }\n",
       "\n",
       "    .dataframe thead th {\n",
       "        text-align: right;\n",
       "    }\n",
       "</style>\n",
       "<table border=\"1\" class=\"dataframe\">\n",
       "  <thead>\n",
       "    <tr style=\"text-align: right;\">\n",
       "      <th></th>\n",
       "      <th>Month</th>\n",
       "      <th>Price</th>\n",
       "      <th>Sales</th>\n",
       "    </tr>\n",
       "    <tr>\n",
       "      <th>Month</th>\n",
       "      <th></th>\n",
       "      <th></th>\n",
       "      <th></th>\n",
       "    </tr>\n",
       "  </thead>\n",
       "  <tbody>\n",
       "    <tr>\n",
       "      <th>Sep-21</th>\n",
       "      <td>Sep-21</td>\n",
       "      <td>71.65</td>\n",
       "      <td>1843.9</td>\n",
       "    </tr>\n",
       "    <tr>\n",
       "      <th>Oct-21</th>\n",
       "      <td>Oct-21</td>\n",
       "      <td>81.48</td>\n",
       "      <td>2020.8</td>\n",
       "    </tr>\n",
       "    <tr>\n",
       "      <th>Nov-21</th>\n",
       "      <td>Nov-21</td>\n",
       "      <td>79.15</td>\n",
       "      <td>2192.4</td>\n",
       "    </tr>\n",
       "    <tr>\n",
       "      <th>Dec-21</th>\n",
       "      <td>Dec-21</td>\n",
       "      <td>71.71</td>\n",
       "      <td>1915.5</td>\n",
       "    </tr>\n",
       "    <tr>\n",
       "      <th>Jan-22</th>\n",
       "      <td>Jan-22</td>\n",
       "      <td>83.22</td>\n",
       "      <td>2589.9</td>\n",
       "    </tr>\n",
       "  </tbody>\n",
       "</table>\n",
       "</div>"
      ],
      "text/plain": [
       "         Month  Price   Sales\n",
       "Month                        \n",
       "Sep-21  Sep-21  71.65  1843.9\n",
       "Oct-21  Oct-21  81.48  2020.8\n",
       "Nov-21  Nov-21  79.15  2192.4\n",
       "Dec-21  Dec-21  71.71  1915.5\n",
       "Jan-22  Jan-22  83.22  2589.9"
      ]
     },
     "execution_count": 21,
     "metadata": {},
     "output_type": "execute_result"
    }
   ],
   "source": [
    "oil.tail()"
   ]
  },
  {
   "cell_type": "code",
   "execution_count": 22,
   "metadata": {
    "scrolled": true
   },
   "outputs": [
    {
     "name": "stderr",
     "output_type": "stream",
     "text": [
      "D:\\Anaconda\\lib\\site-packages\\statsmodels\\tsa\\base\\tsa_model.py:213: ValueWarning: An unsupported index was provided and will be ignored when e.g. forecasting.\n",
      "  warnings.warn('An unsupported index was provided and will be'\n",
      "D:\\Anaconda\\lib\\site-packages\\statsmodels\\tsa\\base\\tsa_model.py:213: ValueWarning: An unsupported index was provided and will be ignored when e.g. forecasting.\n",
      "  warnings.warn('An unsupported index was provided and will be'\n"
     ]
    }
   ],
   "source": [
    "sarimax_model = SARIMAX(oil['Price'], order = (1,1,1), seasonal_order = (1,1,1,12), exog = oil['Sales'])"
   ]
  },
  {
   "cell_type": "code",
   "execution_count": 23,
   "metadata": {},
   "outputs": [],
   "source": [
    "result = sarimax_model.fit(disp=False)"
   ]
  },
  {
   "cell_type": "code",
   "execution_count": 24,
   "metadata": {},
   "outputs": [
    {
     "data": {
      "text/html": [
       "<table class=\"simpletable\">\n",
       "<caption>SARIMAX Results</caption>\n",
       "<tr>\n",
       "  <th>Dep. Variable:</th>                <td>Price</td>             <th>  No. Observations:  </th>    <td>265</td>  \n",
       "</tr>\n",
       "<tr>\n",
       "  <th>Model:</th>           <td>SARIMAX(1, 1, 1)x(1, 1, 1, 12)</td> <th>  Log Likelihood     </th> <td>-795.823</td>\n",
       "</tr>\n",
       "<tr>\n",
       "  <th>Date:</th>                   <td>Tue, 19 Apr 2022</td>        <th>  AIC                </th> <td>1603.646</td>\n",
       "</tr>\n",
       "<tr>\n",
       "  <th>Time:</th>                       <td>12:19:54</td>            <th>  BIC                </th> <td>1624.822</td>\n",
       "</tr>\n",
       "<tr>\n",
       "  <th>Sample:</th>                         <td>0</td>               <th>  HQIC               </th> <td>1612.167</td>\n",
       "</tr>\n",
       "<tr>\n",
       "  <th></th>                             <td> - 265</td>             <th>                     </th>     <td> </td>   \n",
       "</tr>\n",
       "<tr>\n",
       "  <th>Covariance Type:</th>               <td>opg</td>              <th>                     </th>     <td> </td>   \n",
       "</tr>\n",
       "</table>\n",
       "<table class=\"simpletable\">\n",
       "<tr>\n",
       "      <td></td>        <th>coef</th>     <th>std err</th>      <th>z</th>      <th>P>|z|</th>  <th>[0.025</th>    <th>0.975]</th>  \n",
       "</tr>\n",
       "<tr>\n",
       "  <th>Sales</th>    <td>-6.695e-05</td> <td>    0.000</td> <td>   -0.189</td> <td> 0.850</td> <td>   -0.001</td> <td>    0.001</td>\n",
       "</tr>\n",
       "<tr>\n",
       "  <th>ar.L1</th>    <td>    0.3234</td> <td>    0.117</td> <td>    2.757</td> <td> 0.006</td> <td>    0.093</td> <td>    0.553</td>\n",
       "</tr>\n",
       "<tr>\n",
       "  <th>ma.L1</th>    <td>    0.0390</td> <td>    0.148</td> <td>    0.264</td> <td> 0.792</td> <td>   -0.250</td> <td>    0.328</td>\n",
       "</tr>\n",
       "<tr>\n",
       "  <th>ar.S.L12</th> <td>    0.0359</td> <td>    0.069</td> <td>    0.521</td> <td> 0.602</td> <td>   -0.099</td> <td>    0.171</td>\n",
       "</tr>\n",
       "<tr>\n",
       "  <th>ma.S.L12</th> <td>   -0.9645</td> <td>    0.174</td> <td>   -5.528</td> <td> 0.000</td> <td>   -1.306</td> <td>   -0.623</td>\n",
       "</tr>\n",
       "<tr>\n",
       "  <th>sigma2</th>   <td>   28.7424</td> <td>    4.090</td> <td>    7.027</td> <td> 0.000</td> <td>   20.726</td> <td>   36.759</td>\n",
       "</tr>\n",
       "</table>\n",
       "<table class=\"simpletable\">\n",
       "<tr>\n",
       "  <th>Ljung-Box (Q):</th>          <td>33.40</td> <th>  Jarque-Bera (JB):  </th> <td>45.82</td>\n",
       "</tr>\n",
       "<tr>\n",
       "  <th>Prob(Q):</th>                <td>0.76</td>  <th>  Prob(JB):          </th> <td>0.00</td> \n",
       "</tr>\n",
       "<tr>\n",
       "  <th>Heteroskedasticity (H):</th> <td>2.06</td>  <th>  Skew:              </th> <td>-0.55</td>\n",
       "</tr>\n",
       "<tr>\n",
       "  <th>Prob(H) (two-sided):</th>    <td>0.00</td>  <th>  Kurtosis:          </th> <td>4.78</td> \n",
       "</tr>\n",
       "</table><br/><br/>Warnings:<br/>[1] Covariance matrix calculated using the outer product of gradients (complex-step)."
      ],
      "text/plain": [
       "<class 'statsmodels.iolib.summary.Summary'>\n",
       "\"\"\"\n",
       "                                     SARIMAX Results                                      \n",
       "==========================================================================================\n",
       "Dep. Variable:                              Price   No. Observations:                  265\n",
       "Model:             SARIMAX(1, 1, 1)x(1, 1, 1, 12)   Log Likelihood                -795.823\n",
       "Date:                            Tue, 19 Apr 2022   AIC                           1603.646\n",
       "Time:                                    12:19:54   BIC                           1624.822\n",
       "Sample:                                         0   HQIC                          1612.167\n",
       "                                            - 265                                         \n",
       "Covariance Type:                              opg                                         \n",
       "==============================================================================\n",
       "                 coef    std err          z      P>|z|      [0.025      0.975]\n",
       "------------------------------------------------------------------------------\n",
       "Sales      -6.695e-05      0.000     -0.189      0.850      -0.001       0.001\n",
       "ar.L1          0.3234      0.117      2.757      0.006       0.093       0.553\n",
       "ma.L1          0.0390      0.148      0.264      0.792      -0.250       0.328\n",
       "ar.S.L12       0.0359      0.069      0.521      0.602      -0.099       0.171\n",
       "ma.S.L12      -0.9645      0.174     -5.528      0.000      -1.306      -0.623\n",
       "sigma2        28.7424      4.090      7.027      0.000      20.726      36.759\n",
       "===================================================================================\n",
       "Ljung-Box (Q):                       33.40   Jarque-Bera (JB):                45.82\n",
       "Prob(Q):                              0.76   Prob(JB):                         0.00\n",
       "Heteroskedasticity (H):               2.06   Skew:                            -0.55\n",
       "Prob(H) (two-sided):                  0.00   Kurtosis:                         4.78\n",
       "===================================================================================\n",
       "\n",
       "Warnings:\n",
       "[1] Covariance matrix calculated using the outer product of gradients (complex-step).\n",
       "\"\"\""
      ]
     },
     "execution_count": 24,
     "metadata": {},
     "output_type": "execute_result"
    }
   ],
   "source": [
    "result.summary()"
   ]
  }
 ],
 "metadata": {
  "kernelspec": {
   "display_name": "Python 3",
   "language": "python",
   "name": "python3"
  },
  "language_info": {
   "codemirror_mode": {
    "name": "ipython",
    "version": 3
   },
   "file_extension": ".py",
   "mimetype": "text/x-python",
   "name": "python",
   "nbconvert_exporter": "python",
   "pygments_lexer": "ipython3",
   "version": "3.8.3"
  }
 },
 "nbformat": 4,
 "nbformat_minor": 4
}
